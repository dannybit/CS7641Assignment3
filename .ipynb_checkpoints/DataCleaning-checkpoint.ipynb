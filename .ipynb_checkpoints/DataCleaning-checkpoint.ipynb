{
 "cells": [
  {
   "cell_type": "code",
   "execution_count": 1,
   "metadata": {},
   "outputs": [
    {
     "ename": "ModuleNotFoundError",
     "evalue": "No module named 'sklearn'",
     "output_type": "error",
     "traceback": [
      "\u001b[0;31m---------------------------------------------------------------------------\u001b[0m",
      "\u001b[0;31mModuleNotFoundError\u001b[0m                       Traceback (most recent call last)",
      "\u001b[0;32m<ipython-input-1-f5bde5e46dcd>\u001b[0m in \u001b[0;36m<module>\u001b[0;34m\u001b[0m\n\u001b[1;32m      1\u001b[0m \u001b[0;32mimport\u001b[0m \u001b[0mpandas\u001b[0m \u001b[0;32mas\u001b[0m \u001b[0mpd\u001b[0m\u001b[0;34m\u001b[0m\u001b[0;34m\u001b[0m\u001b[0m\n\u001b[0;32m----> 2\u001b[0;31m \u001b[0;32mfrom\u001b[0m \u001b[0msklearn\u001b[0m\u001b[0;34m.\u001b[0m\u001b[0mtree\u001b[0m \u001b[0;32mimport\u001b[0m \u001b[0mDecisionTreeClassifier\u001b[0m\u001b[0;34m\u001b[0m\u001b[0;34m\u001b[0m\u001b[0m\n\u001b[0m\u001b[1;32m      3\u001b[0m \u001b[0;32mfrom\u001b[0m \u001b[0msklearn\u001b[0m\u001b[0;34m.\u001b[0m\u001b[0mmodel_selection\u001b[0m \u001b[0;32mimport\u001b[0m \u001b[0mtrain_test_split\u001b[0m\u001b[0;34m,\u001b[0m \u001b[0mStratifiedShuffleSplit\u001b[0m\u001b[0;34m,\u001b[0m\u001b[0mKFold\u001b[0m\u001b[0;34m\u001b[0m\u001b[0;34m\u001b[0m\u001b[0m\n\u001b[1;32m      4\u001b[0m \u001b[0;32mfrom\u001b[0m \u001b[0msklearn\u001b[0m\u001b[0;34m.\u001b[0m\u001b[0mmetrics\u001b[0m \u001b[0;32mimport\u001b[0m \u001b[0maccuracy_score\u001b[0m\u001b[0;34m,\u001b[0m\u001b[0mfbeta_score\u001b[0m\u001b[0;34m,\u001b[0m\u001b[0mf1_score\u001b[0m\u001b[0;34m\u001b[0m\u001b[0;34m\u001b[0m\u001b[0m\n\u001b[1;32m      5\u001b[0m \u001b[0;32mimport\u001b[0m \u001b[0mnumpy\u001b[0m \u001b[0;32mas\u001b[0m \u001b[0mnp\u001b[0m\u001b[0;34m\u001b[0m\u001b[0;34m\u001b[0m\u001b[0m\n",
      "\u001b[0;31mModuleNotFoundError\u001b[0m: No module named 'sklearn'"
     ]
    }
   ],
   "source": [
    "import pandas as pd\n",
    "from sklearn.tree import DecisionTreeClassifier\n",
    "from sklearn.model_selection import train_test_split, StratifiedShuffleSplit,KFold\n",
    "from sklearn.metrics import accuracy_score,fbeta_score,f1_score\n",
    "import numpy as np\n",
    "import matplotlib.pyplot as plt\n",
    "import re"
   ]
  },
  {
   "cell_type": "markdown",
   "metadata": {},
   "source": [
    "ADULT INCOME"
   ]
  },
  {
   "cell_type": "code",
   "execution_count": 51,
   "metadata": {},
   "outputs": [],
   "source": [
    "column_names = [\n",
    "    \"age\", # continuous\n",
    "    \"workclass\", # Private, Self-emp-not-inc, Self-emp-inc, Federal-gov, Local-gov, State-gov, Without-pay, Never-worked\n",
    "    \"fnlwgt\", # continuous \n",
    "    \"education\", # Bachelors, Some-college, 11th, HS-grad, Prof-school, Assoc-acdm, Assoc-voc, 9th, 7th-8th, 12th, Masters, 1st-4th, 10th, Doctorate, 5th-6th, Preschool\n",
    "    \"education-num\", # continuous. \n",
    "    \"marital-status\", # Married-civ-spouse, Divorced, Never-married, Separated, Widowed, Married-spouse-absent, Married-AF-spouse.\n",
    "    \"occupation\", # Tech-support, Craft-repair, Other-service, Sales, Exec-managerial, Prof-specialty, Handlers-cleaners, Machine-op-inspct, Adm-clerical, Farming-fishing, Transport-moving, Priv-house-serv, Protective-serv, Armed-Forces.\n",
    "    \"relationship\", # Wife, Own-child, Husband, Not-in-family, Other-relative, Unmarried \n",
    "    \"race\", # White, Asian-Pac-Islander, Amer-Indian-Eskimo, Other, Black, \n",
    "    \"sex\", # Female, Male, \n",
    "    \"capital-gain\", # continuous, \n",
    "    \"capital-loss\", # continuous, \n",
    "    \"hours-per-week\", # continuous, \n",
    "    \"native-country\", # United-States, Cambodia, England, Puerto-Rico, Canada, Germany, Outlying-US(Guam-USVI-etc), India, Japan, Greece, South, China, Cuba, Iran, Honduras, Philippines, Italy, Poland, Jamaica, Vietnam, Mexico, Portugal, Ireland, France, Dominican-Republic, Laos, Ecuador, Taiwan, Haiti, Columbia, Hungary, Guatemala, Nicaragua, Scotland, Thailand, Yugoslavia, El-Salvador, Trinadad&Tobago, Peru, Hong, Holand-Netherlands \n",
    "    \"target\" # >50K, <=50K\n",
    "]\n",
    "df = pd.read_csv(filepath_or_buffer=\"adult.data.txt\", sep=',', names=column_names, skipinitialspace=True)"
   ]
  },
  {
   "cell_type": "code",
   "execution_count": 52,
   "metadata": {},
   "outputs": [],
   "source": [
    "df = df.drop(['fnlwgt','education-num'],1)"
   ]
  },
  {
   "cell_type": "code",
   "execution_count": 55,
   "metadata": {},
   "outputs": [
    {
     "name": "stdout",
     "output_type": "stream",
     "text": [
      "Shape: (32561, 13)\n",
      "\n",
      "Missing values\n",
      "--------------\n",
      "workclass:1836\n",
      "education:0\n",
      "marital-status:0\n",
      "occupation:1843\n",
      "relationship:0\n",
      "race:0\n",
      "sex:0\n",
      "native-country:583\n",
      "target:0\n"
     ]
    }
   ],
   "source": [
    "print(f\"Shape: {df.shape}\")\n",
    "print(\"\")\n",
    "print(\"Missing values\")\n",
    "print(\"--------------\")\n",
    "for col in df.columns:\n",
    "    if df[col].dtype == object:\n",
    "        missing_count = (df[col] == \"?\").sum()\n",
    "        print(f\"{col}:{missing_count}\")"
   ]
  },
  {
   "cell_type": "code",
   "execution_count": 56,
   "metadata": {},
   "outputs": [],
   "source": [
    "df[\"target\"] = df[\"target\"].map({\"<=50K\": 0, \">50K\": 1})\n",
    "df[\"workclass\"] = df[\"workclass\"].replace(to_replace='?', value=np.nan)\n",
    "df[\"occupation\"] = df[\"occupation\"].replace(to_replace='?', value=np.nan)\n",
    "df[\"native-country\"] = df[\"native-country\"].replace(to_replace='?', value=np.nan)\n",
    "df = df.dropna()"
   ]
  },
  {
   "cell_type": "code",
   "execution_count": 57,
   "metadata": {},
   "outputs": [],
   "source": [
    "replacements = { 'Cambodia':' SE-Asia',\n",
    "                'Canada':' British-Commonwealth',\n",
    "                'China':' China',\n",
    "                'Columbia':' South-America',\n",
    "                'Cuba':' Other',\n",
    "                'Dominican-Republic':' Latin-America',\n",
    "                'Ecuador':' South-America',\n",
    "                'El-Salvador':' South-America ',\n",
    "                'England':' British-Commonwealth',\n",
    "                'France':' Euro_1',\n",
    "                'Germany':' Euro_1',\n",
    "                'Greece':' Euro_2',\n",
    "                'Guatemala':' Latin-America',\n",
    "                'Haiti':' Latin-America',\n",
    "                'Holand-Netherlands':' Euro_1',\n",
    "                'Honduras':' Latin-America',\n",
    "                'Hong':' China',\n",
    "                'Hungary':' Euro_2',\n",
    "                'India':' British-Commonwealth',\n",
    "                'Iran':' Other',\n",
    "                'Ireland':' British-Commonwealth',\n",
    "                'Italy':' Euro_1',\n",
    "                'Jamaica':' Latin-America',\n",
    "                'Japan':' Other',\n",
    "                'Laos':' SE-Asia',\n",
    "                'Mexico':' Latin-America',\n",
    "                'Nicaragua':' Latin-America',\n",
    "                'Outlying-US(Guam-USVI-etc)':' Latin-America',\n",
    "                'Peru':' South-America',\n",
    "                'Philippines':' SE-Asia',\n",
    "                'Poland':' Euro_2',\n",
    "                'Portugal':' Euro_2',\n",
    "                'Puerto-Rico':' Latin-America',\n",
    "                'Scotland':' British-Commonwealth',\n",
    "                'South':' Euro_2',\n",
    "                'Taiwan':' China',\n",
    "                'Thailand':' SE-Asia',\n",
    "                'Trinadad&Tobago':' Latin-America',\n",
    "                'United-States':' United-States',\n",
    "                'Vietnam':' SE-Asia',\n",
    "                'Yugoslavia':' Euro_2'}\n",
    "df['native-country'] = df['native-country'].str.strip()\n",
    "df = df.replace(to_replace={'native-country': replacements, 'relationship': {' Husband': 'Spouse',' Wife':'Spouse'}})    \n",
    "df['native-country'] = df['native-country'].str.strip()"
   ]
  },
  {
   "cell_type": "code",
   "execution_count": 58,
   "metadata": {},
   "outputs": [
    {
     "data": {
      "text/plain": [
       "(30162, 70)"
      ]
     },
     "execution_count": 58,
     "metadata": {},
     "output_type": "execute_result"
    }
   ],
   "source": [
    "pd.get_dummies(df.drop(\"target\", axis=1)).shape"
   ]
  },
  {
   "cell_type": "code",
   "execution_count": 59,
   "metadata": {},
   "outputs": [],
   "source": [
    "df.to_csv(path_or_buf='adult_cleaned.csv', index=False)"
   ]
  }
 ],
 "metadata": {
  "kernelspec": {
   "display_name": "Python 3",
   "language": "python",
   "name": "python3"
  },
  "language_info": {
   "codemirror_mode": {
    "name": "ipython",
    "version": 3
   },
   "file_extension": ".py",
   "mimetype": "text/x-python",
   "name": "python",
   "nbconvert_exporter": "python",
   "pygments_lexer": "ipython3",
   "version": "3.7.2"
  }
 },
 "nbformat": 4,
 "nbformat_minor": 2
}
